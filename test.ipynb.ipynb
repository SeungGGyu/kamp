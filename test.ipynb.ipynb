{
 "cells": [
  {
   "cell_type": "code",
   "execution_count": 1,
   "id": "5868bbf5",
   "metadata": {},
   "outputs": [],
   "source": [
    "import sys\n",
    "from pathlib import Path\n",
    "from datetime import timedelta\n",
    "import dateutil\n",
    "import numpy as np\n",
    "import matplotlib.pyplot as plt\n",
    "import pandas as pd\n",
    "import torch\n",
    "from torch.utils.data import Dataset, DataLoader\n",
    "from tqdm.notebook import trange\n",
    "import os\n",
    "import random\n",
    "import torch.nn as nn\n",
    "from scipy import signal\n",
    "import seaborn as sns\n"
   ]
  },
  {
   "cell_type": "code",
   "execution_count": 2,
   "id": "b2bf499b",
   "metadata": {},
   "outputs": [],
   "source": [
    "def seed_everything(seed = 777):\n",
    "    random.seed(seed)\n",
    "    os.environ[\"PYTHONHASHSEED\"] = str(seed)\n",
    "    np.random.seed(seed)\n",
    "    torch.manual_seed(seed)\n",
    "    torch.cuda.manual_seed(seed)\n",
    "    torch.backends.cudnn.deterministic = True\n",
    "    torch.backends.cudnn.benchmark = False\n",
    "seed_everything()"
   ]
  },
  {
   "cell_type": "code",
   "execution_count": 3,
   "id": "9156f640",
   "metadata": {},
   "outputs": [
    {
     "data": {
      "text/html": [
       "<div>\n",
       "<style scoped>\n",
       "    .dataframe tbody tr th:only-of-type {\n",
       "        vertical-align: middle;\n",
       "    }\n",
       "\n",
       "    .dataframe tbody tr th {\n",
       "        vertical-align: top;\n",
       "    }\n",
       "\n",
       "    .dataframe thead th {\n",
       "        text-align: right;\n",
       "    }\n",
       "</style>\n",
       "<table border=\"1\" class=\"dataframe\">\n",
       "  <thead>\n",
       "    <tr style=\"text-align: right;\">\n",
       "      <th></th>\n",
       "      <th>date</th>\n",
       "      <th>EX5.MELT_TEMP</th>\n",
       "      <th>EX4.MELT_TEMP</th>\n",
       "      <th>EX3.MELT_TEMP</th>\n",
       "      <th>EX2.MELT_TEMP</th>\n",
       "      <th>EX1.Z1_PV</th>\n",
       "      <th>EX1.Z2_PV</th>\n",
       "      <th>EX1.Z3_PV</th>\n",
       "      <th>EX1.Z4_PV</th>\n",
       "      <th>EX1.A1_PV</th>\n",
       "      <th>EX1.A2_PV</th>\n",
       "      <th>EX1.H1_PV</th>\n",
       "      <th>EX1.H2_PV</th>\n",
       "      <th>EX1.H3_PV</th>\n",
       "      <th>EX1.H4_PV</th>\n",
       "      <th>EX1.H2O_PV</th>\n",
       "      <th>EX1.MELT_P_PV</th>\n",
       "      <th>EX1.MD_PV</th>\n",
       "      <th>EX1.MD_TQ</th>\n",
       "      <th>passorfail</th>\n",
       "    </tr>\n",
       "  </thead>\n",
       "  <tbody>\n",
       "    <tr>\n",
       "      <th>0</th>\n",
       "      <td>2020 10 30 00:00:04</td>\n",
       "      <td>297</td>\n",
       "      <td>222</td>\n",
       "      <td>251</td>\n",
       "      <td>267</td>\n",
       "      <td>209</td>\n",
       "      <td>219</td>\n",
       "      <td>229</td>\n",
       "      <td>239</td>\n",
       "      <td>240</td>\n",
       "      <td>239</td>\n",
       "      <td>241</td>\n",
       "      <td>240</td>\n",
       "      <td>240</td>\n",
       "      <td>40</td>\n",
       "      <td>41</td>\n",
       "      <td>0.0</td>\n",
       "      <td>71.2215</td>\n",
       "      <td>72</td>\n",
       "      <td>0.0</td>\n",
       "    </tr>\n",
       "    <tr>\n",
       "      <th>1</th>\n",
       "      <td>2020 10 30 00:00:09</td>\n",
       "      <td>297</td>\n",
       "      <td>222</td>\n",
       "      <td>251</td>\n",
       "      <td>268</td>\n",
       "      <td>210</td>\n",
       "      <td>219</td>\n",
       "      <td>229</td>\n",
       "      <td>239</td>\n",
       "      <td>240</td>\n",
       "      <td>239</td>\n",
       "      <td>240</td>\n",
       "      <td>240</td>\n",
       "      <td>240</td>\n",
       "      <td>40</td>\n",
       "      <td>41</td>\n",
       "      <td>0.0</td>\n",
       "      <td>71.2096</td>\n",
       "      <td>72</td>\n",
       "      <td>0.0</td>\n",
       "    </tr>\n",
       "    <tr>\n",
       "      <th>2</th>\n",
       "      <td>2020 10 30 00:00:14</td>\n",
       "      <td>297</td>\n",
       "      <td>222</td>\n",
       "      <td>251</td>\n",
       "      <td>267</td>\n",
       "      <td>210</td>\n",
       "      <td>219</td>\n",
       "      <td>229</td>\n",
       "      <td>239</td>\n",
       "      <td>240</td>\n",
       "      <td>239</td>\n",
       "      <td>240</td>\n",
       "      <td>240</td>\n",
       "      <td>240</td>\n",
       "      <td>40</td>\n",
       "      <td>41</td>\n",
       "      <td>0.0</td>\n",
       "      <td>71.1977</td>\n",
       "      <td>72</td>\n",
       "      <td>0.0</td>\n",
       "    </tr>\n",
       "    <tr>\n",
       "      <th>3</th>\n",
       "      <td>2020 10 30 00:00:19</td>\n",
       "      <td>297</td>\n",
       "      <td>222</td>\n",
       "      <td>251</td>\n",
       "      <td>267</td>\n",
       "      <td>210</td>\n",
       "      <td>219</td>\n",
       "      <td>229</td>\n",
       "      <td>240</td>\n",
       "      <td>240</td>\n",
       "      <td>239</td>\n",
       "      <td>241</td>\n",
       "      <td>240</td>\n",
       "      <td>240</td>\n",
       "      <td>40</td>\n",
       "      <td>41</td>\n",
       "      <td>0.0</td>\n",
       "      <td>71.1977</td>\n",
       "      <td>72</td>\n",
       "      <td>0.0</td>\n",
       "    </tr>\n",
       "    <tr>\n",
       "      <th>4</th>\n",
       "      <td>2020 10 30 00:00:24</td>\n",
       "      <td>297</td>\n",
       "      <td>222</td>\n",
       "      <td>251</td>\n",
       "      <td>267</td>\n",
       "      <td>210</td>\n",
       "      <td>219</td>\n",
       "      <td>229</td>\n",
       "      <td>239</td>\n",
       "      <td>240</td>\n",
       "      <td>239</td>\n",
       "      <td>241</td>\n",
       "      <td>240</td>\n",
       "      <td>240</td>\n",
       "      <td>40</td>\n",
       "      <td>41</td>\n",
       "      <td>0.0</td>\n",
       "      <td>71.1977</td>\n",
       "      <td>72</td>\n",
       "      <td>0.0</td>\n",
       "    </tr>\n",
       "  </tbody>\n",
       "</table>\n",
       "</div>"
      ],
      "text/plain": [
       "                  date  EX5.MELT_TEMP  EX4.MELT_TEMP  EX3.MELT_TEMP  \\\n",
       "0  2020 10 30 00:00:04            297            222            251   \n",
       "1  2020 10 30 00:00:09            297            222            251   \n",
       "2  2020 10 30 00:00:14            297            222            251   \n",
       "3  2020 10 30 00:00:19            297            222            251   \n",
       "4  2020 10 30 00:00:24            297            222            251   \n",
       "\n",
       "   EX2.MELT_TEMP  EX1.Z1_PV  EX1.Z2_PV  EX1.Z3_PV  EX1.Z4_PV  EX1.A1_PV  \\\n",
       "0            267        209        219        229        239        240   \n",
       "1            268        210        219        229        239        240   \n",
       "2            267        210        219        229        239        240   \n",
       "3            267        210        219        229        240        240   \n",
       "4            267        210        219        229        239        240   \n",
       "\n",
       "   EX1.A2_PV  EX1.H1_PV  EX1.H2_PV  EX1.H3_PV  EX1.H4_PV  EX1.H2O_PV  \\\n",
       "0        239        241        240        240         40          41   \n",
       "1        239        240        240        240         40          41   \n",
       "2        239        240        240        240         40          41   \n",
       "3        239        241        240        240         40          41   \n",
       "4        239        241        240        240         40          41   \n",
       "\n",
       "   EX1.MELT_P_PV  EX1.MD_PV  EX1.MD_TQ  passorfail  \n",
       "0            0.0    71.2215         72         0.0  \n",
       "1            0.0    71.2096         72         0.0  \n",
       "2            0.0    71.1977         72         0.0  \n",
       "3            0.0    71.1977         72         0.0  \n",
       "4            0.0    71.1977         72         0.0  "
      ]
     },
     "execution_count": 3,
     "metadata": {},
     "output_type": "execute_result"
    }
   ],
   "source": [
    "df = pd.read_pickle('/dshome/ddualab/gyu/kamp/data/plastic_deformation.pkl')\n",
    "df.head()"
   ]
  },
  {
   "cell_type": "markdown",
   "id": "ae67ec54",
   "metadata": {},
   "source": [
    "## 1. EDA"
   ]
  },
  {
   "cell_type": "code",
   "execution_count": 4,
   "id": "6dcec622",
   "metadata": {},
   "outputs": [
    {
     "name": "stdout",
     "output_type": "stream",
     "text": [
      "\n",
      "🎯 Target(`passorfail`) 분포:\n",
      "passorfail\n",
      "0.0    0.993628\n",
      "1.0    0.006372\n",
      "Name: proportion, dtype: float64\n"
     ]
    },
    {
     "data": {
      "image/png": "[encoded data removed]",
      "text/plain": [
       "<Figure size 640x480 with 1 Axes>"
      ]
     },
     "metadata": {},
     "output_type": "display_data"
    }
   ],
   "source": [
    "# === 5. 타겟 분포 확인 ===\n",
    "print(\"\\n🎯 Target(`passorfail`) 분포:\")\n",
    "print(df['passorfail'].value_counts(normalize=True))\n",
    "sns.countplot(x='passorfail', data=df)\n",
    "plt.title(\"Target Distribution (passorfail)\")\n",
    "plt.show()\n"
   ]
  },
  {
   "cell_type": "markdown",
   "id": "c3ba38f5",
   "metadata": {},
   "source": [
    "## 2. Utill\n",
    "\n"
   ]
  },
  {
   "cell_type": "code",
   "execution_count": 68,
   "id": "d0f584b2",
   "metadata": {},
   "outputs": [
    {
     "name": "stdout",
     "output_type": "stream",
     "text": [
      "✅ train_valid_test_split complete:\n",
      "Train: 10358 rows (60%)\n",
      "Valid: 3452 rows (20%)\n",
      "Test : 3454 rows (20%)\n",
      "\n",
      "📅 Time range:\n",
      "  Train: 2020-10-30 00:00:04 → 2020-10-30 14:23:09\n",
      "  Valid: 2020-10-30 14:23:14 → 2020-10-30 19:10:49\n",
      "  Test : 2020-10-30 19:10:54 → 2020-10-30 23:58:39\n"
     ]
    }
   ],
   "source": [
    "def train_valid_test_split(df, time_col='date', label_col='passorfail', ratios=(0.6, 0.2, 0.2)):\n",
    "\n",
    "    df['date'] = pd.to_datetime(df['date'], format='%Y %m %d %H:%M:%S')\n",
    "    \n",
    "    # 1️⃣ 시간 순으로 정렬\n",
    "    df = df.sort_values(time_col).reset_index(drop=True)\n",
    "    \n",
    "    # 2️⃣ 비율 계산\n",
    "    n = len(df)\n",
    "    n_train = int(n * ratios[0])\n",
    "    n_valid = int(n * ratios[1])\n",
    "    \n",
    "    # 3️⃣ 구간 나누기\n",
    "    train_df = df.iloc[:n_train]\n",
    "    valid_df = df.iloc[n_train:n_train + n_valid]\n",
    "    test_df  = df.iloc[n_train + n_valid:]\n",
    "    \n",
    "    # 4️⃣ 구간 정보 출력\n",
    "    print(\"✅ train_valid_test_split complete:\")\n",
    "    print(f\"Train: {train_df.shape[0]} rows ({ratios[0]*100:.0f}%)\")\n",
    "    print(f\"Valid: {valid_df.shape[0]} rows ({ratios[1]*100:.0f}%)\")\n",
    "    print(f\"Test : {test_df.shape[0]} rows ({ratios[2]*100:.0f}%)\")\n",
    "    print(f\"\\n📅 Time range:\")\n",
    "    print(f\"  Train: {train_df[time_col].iloc[0]} → {train_df[time_col].iloc[-1]}\")\n",
    "    print(f\"  Valid: {valid_df[time_col].iloc[0]} → {valid_df[time_col].iloc[-1]}\")\n",
    "    print(f\"  Test : {test_df[time_col].iloc[0]} → {test_df[time_col].iloc[-1]}\")\n",
    "    \n",
    "    return {\n",
    "        \"train\": train_df,\n",
    "        \"valid\": valid_df,\n",
    "        \"test\": test_df\n",
    "    }\n",
    "\n",
    "\n",
    "splits = train_valid_test_split(df, time_col='date', label_col='passorfail', ratios=(0.6, 0.2, 0.2))\n",
    "\n",
    "train_df = splits['train']\n",
    "valid_df = splits['valid']\n",
    "test_df  = splits['test']"
   ]
  },
  {
   "cell_type": "code",
   "execution_count": 69,
   "id": "dbf24f95",
   "metadata": {},
   "outputs": [
    {
     "data": {
      "text/plain": [
       "((10358, 20), (3452, 20), (3454, 20))"
      ]
     },
     "execution_count": 69,
     "metadata": {},
     "output_type": "execute_result"
    }
   ],
   "source": [
    "train_df.shape, valid_df.shape, test_df.shape"
   ]
  },
  {
   "cell_type": "code",
   "execution_count": 70,
   "id": "a7dda398",
   "metadata": {},
   "outputs": [],
   "source": [
    "def get_tag_minmax(df, exclude_cols=None):\n",
    "    \"\"\"\n",
    "    df : 전체 DataFrame\n",
    "    exclude_cols : 날짜나 타겟 컬럼 등, 통계 계산에서 제외할 컬럼\n",
    "    \"\"\"\n",
    "    if exclude_cols is None:\n",
    "        exclude_cols = []\n",
    "    valid_cols = [c for c in df.columns if c not in exclude_cols]\n",
    "    tag_min = df[valid_cols].min()\n",
    "    tag_max = df[valid_cols].max()\n",
    "    return tag_min, tag_max, valid_cols\n",
    "\n",
    "\n",
    "# min-max 정규화 함수\n",
    "def normalize(df, tag_min, tag_max):\n",
    "    ndf = df.copy()\n",
    "    for c in df.columns:\n",
    "        if c in tag_min.index:\n",
    "            if tag_min[c] == tag_max[c]:\n",
    "                ndf[c] = df[c] - tag_min[c]\n",
    "            else:\n",
    "                ndf[c] = (df[c] - tag_min[c]) / (tag_max[c] - tag_min[c])\n",
    "    return ndf\n",
    "\n",
    "\n",
    "# ③ 지수이동평균(EMA) 적용 함수\n",
    "def apply_ema(df, alpha=0.9):\n",
    "    \"\"\"\n",
    "    alpha : 최근 값의 가중치 (0.9면 최근 시점에 90% 가중치)\n",
    "    \"\"\"\n",
    "    return df.ewm(alpha=alpha).mean()\n",
    "\n",
    "\n",
    "# ④ Boundary Check 함수\n",
    "def boundary_check(df):\n",
    "    x = np.array(df, dtype=np.float32)\n",
    "    return {\n",
    "        \"above_1\": np.any(x > 1.0),\n",
    "        \"below_0\": np.any(x < 0.0),\n",
    "        \"has_nan\": np.any(np.isnan(x))\n",
    "    }\n"
   ]
  },
  {
   "cell_type": "code",
   "execution_count": 71,
   "id": "1d1795d3",
   "metadata": {},
   "outputs": [
    {
     "name": "stdout",
     "output_type": "stream",
     "text": [
      "Train Check: {'above_1': False, 'below_0': False, 'has_nan': False}\n",
      "Valid Check: {'above_1': False, 'below_0': False, 'has_nan': False}\n",
      "Test Check : {'above_1': False, 'below_0': False, 'has_nan': False}\n"
     ]
    }
   ],
   "source": [
    "# === Train ===\n",
    "tag_min_train, tag_max_train, train_cols = get_tag_minmax(train_df, exclude_cols=['date', 'passorfail'])\n",
    "train_norm = normalize(train_df[train_cols], tag_min_train, tag_max_train)\n",
    "train_ema = apply_ema(train_norm, alpha=0.9)\n",
    "print(\"Train Check:\", boundary_check(train_ema))\n",
    "train_processed = pd.concat([train_df[['date', 'passorfail']], train_ema], axis=1)\n",
    "\n",
    "# === Valid ===\n",
    "tag_min_valid, tag_max_valid, valid_cols = get_tag_minmax(valid_df, exclude_cols=['date', 'passorfail'])\n",
    "valid_norm = normalize(valid_df[valid_cols], tag_min_valid, tag_max_valid)\n",
    "valid_ema = apply_ema(valid_norm, alpha=0.9)\n",
    "print(\"Valid Check:\", boundary_check(valid_ema))\n",
    "valid_processed = pd.concat([valid_df[['date', 'passorfail']], valid_ema], axis=1)\n",
    "\n",
    "# === Test ===\n",
    "tag_min_test, tag_max_test, test_cols = get_tag_minmax(test_df, exclude_cols=['date', 'passorfail'])\n",
    "test_norm = normalize(test_df[test_cols], tag_min_test, tag_max_test)\n",
    "test_ema = apply_ema(test_norm, alpha=0.9)\n",
    "print(\"Test Check :\", boundary_check(test_ema))\n",
    "test_processed = pd.concat([test_df[['date', 'passorfail']], test_ema], axis=1)"
   ]
  },
  {
   "cell_type": "code",
   "execution_count": 72,
   "id": "cca018e4",
   "metadata": {},
   "outputs": [],
   "source": [
    "# import torch\n",
    "# from torch.utils.data import Dataset\n",
    "# import numpy as np\n",
    "# from datetime import timedelta\n",
    "# from tqdm import trange\n",
    "# import pandas as pd\n",
    "# import dateutil\n",
    "\n",
    "# class PlasticProcessDataset(Dataset):\n",
    "#     \"\"\"\n",
    "#     📦 시계열 이상탐지용 슬라이딩 윈도우 데이터셋 (소성가공 공정용)\n",
    "    \n",
    "#     Parameters\n",
    "#     ----------\n",
    "#     timestamps : pd.Series or np.ndarray\n",
    "#         시계열 datetime 값 (예: df['date'])\n",
    "#     df : pd.DataFrame\n",
    "#         정규화된 feature 데이터 (date, passorfail 제외)\n",
    "#     window_given : int, default=39\n",
    "#         입력으로 주어질 시점의 개수\n",
    "#     window_size : int, default=40\n",
    "#         window 전체 길이 (given + 1)\n",
    "#     stride : int, default=1\n",
    "#         슬라이딩 윈도우 간격 (1이면 모든 시점)\n",
    "#     labels : array-like, optional\n",
    "#         라벨 (예: df['passorfail']), 없으면 None\n",
    "#     \"\"\"\n",
    "\n",
    "#     def __init__(self, timestamps, df, window_given=39, window_size=40, stride=1, labels=None):\n",
    "#         self.ts = np.array(timestamps)\n",
    "#         self.values = np.array(df, dtype=np.float32)\n",
    "#         self.window_given = window_given\n",
    "#         self.window_size = window_size\n",
    "#         self.labels = np.array(labels, dtype=np.float32) if labels is not None else None\n",
    "        \n",
    "#         # 연속된 시계열 window 인덱스 생성\n",
    "#         self.valid_idxs = []\n",
    "#         for L in trange(len(self.ts) - self.window_size + 1, desc=\"Generating windows\"):\n",
    "#             R = L + self.window_size - 1\n",
    "#             # 시계열이 연속(1초 간격)인지 확인\n",
    "#             if dateutil.parser.parse(str(self.ts[R])) - dateutil.parser.parse(str(self.ts[L])) == timedelta(seconds=(self.window_size - 1) * 5):\n",
    "#                 self.valid_idxs.append(L)\n",
    "#         self.valid_idxs = np.array(self.valid_idxs, dtype=np.int32)[::stride]\n",
    "#         self.n_idxs = len(self.valid_idxs)\n",
    "#         print(f\"✅ {self.n_idxs} windows created.\")\n",
    "\n",
    "#     def __len__(self):\n",
    "#         return self.n_idxs\n",
    "\n",
    "#     def __getitem__(self, idx):\n",
    "#         i = self.valid_idxs[idx]\n",
    "#         last = i + self.window_size - 1\n",
    "#         sample = {\n",
    "#             \"ts\": self.ts[last],  # window의 마지막 시점\n",
    "#             \"given\": torch.from_numpy(self.values[i : i + self.window_given]),  # 입력 시퀀스\n",
    "#             \"answer\": torch.from_numpy(self.values[last])  # 다음 시점(target)\n",
    "#         }\n",
    "#         # 라벨이 있으면 추가\n",
    "#         if self.labels is not None:\n",
    "#             sample[\"label\"] = self.labels[last]\n",
    "#         return sample\n"
   ]
  },
  {
   "cell_type": "code",
   "execution_count": 80,
   "id": "c3abffc9",
   "metadata": {},
   "outputs": [],
   "source": [
    "import torch\n",
    "from torch.utils.data import Dataset\n",
    "import numpy as np\n",
    "from tqdm import trange\n",
    "import pandas as pd\n",
    "\n",
    "class PlasticProcessDataset(Dataset):\n",
    "    \"\"\"\n",
    "    📦 시계열 이상탐지용 슬라이딩 윈도우 데이터셋 (소성가공 공정용)\n",
    "    - 정상 데이터를 기반으로 reconstruction 학습\n",
    "    - window_given: 입력 구간 길이\n",
    "    - window_size: 전체 윈도우 길이 (예측 포함)\n",
    "    \"\"\"\n",
    "\n",
    "    def __init__(self, timestamps, df, window_given=39, window_size=40, stride=1,\n",
    "                 labels=None, step_seconds=5, allow_incomplete=False):\n",
    "        self.timestamps = pd.to_datetime(timestamps).reset_index(drop=True)\n",
    "        self.values = np.array(df, dtype=np.float32)\n",
    "        self.window_given = window_given\n",
    "        self.window_size = window_size\n",
    "        self.labels = np.array(labels, dtype=np.float32) if labels is not None else None\n",
    "        self.step_seconds = step_seconds\n",
    "        self.allow_incomplete = allow_incomplete\n",
    "\n",
    "        total = len(self.timestamps)\n",
    "        limit = total - self.window_size + 1 if not allow_incomplete else total\n",
    "\n",
    "        self.valid_idxs = []\n",
    "        for L in trange(limit, desc=\"Generating windows\"):\n",
    "            R = min(L + self.window_size - 1, total - 1)\n",
    "            diffs = np.diff(self.timestamps[L:R + 1]).astype(\"timedelta64[s]\").astype(int)\n",
    "            if np.all(diffs == self.step_seconds):\n",
    "                self.valid_idxs.append(L)\n",
    "\n",
    "        self.valid_idxs = np.array(self.valid_idxs, dtype=np.int32)[::stride]\n",
    "        self.n_idxs = len(self.valid_idxs)\n",
    "        print(f\"✅ {self.n_idxs} windows created.\")\n",
    "\n",
    "    def __len__(self):\n",
    "        return self.n_idxs\n",
    "\n",
    "    def __getitem__(self, idx):\n",
    "        L = self.valid_idxs[idx]\n",
    "        R = L + self.window_size\n",
    "\n",
    "        given = self.values[L:L + self.window_given]       # 입력 시퀀스\n",
    "        answer = self.values[L + 1:R]                      # 다음 시퀀스\n",
    "        label = self.labels[L + self.window_size - 1] if self.labels is not None else -1\n",
    "        timestamp = self.timestamps[L + self.window_size - 1]\n",
    "\n",
    "        return {\n",
    "            \"given\": torch.tensor(given, dtype=torch.float32),\n",
    "            \"answer\": torch.tensor(answer, dtype=torch.float32),\n",
    "            \"label\": torch.tensor(label, dtype=torch.float32),\n",
    "            # \"timestamp\": timestamp\n",
    "        }\n"
   ]
  },
  {
   "cell_type": "code",
   "execution_count": 81,
   "id": "fd7b1cad",
   "metadata": {},
   "outputs": [],
   "source": [
    "# Train set\n",
    "features_train = train_processed.drop(columns=['date', 'passorfail'])\n",
    "timestamps_train = train_processed['date']\n",
    "labels_train = train_processed['passorfail']\n",
    "\n",
    "# Validation set\n",
    "features_valid = valid_processed.drop(columns=['date', 'passorfail'])\n",
    "timestamps_valid = valid_processed['date']\n",
    "labels_valid = valid_processed['passorfail']\n",
    "\n",
    "# Test set\n",
    "features_test = test_processed.drop(columns=['date', 'passorfail'])\n",
    "timestamps_test = test_processed['date']\n",
    "labels_test = test_processed['passorfail']\n"
   ]
  },
  {
   "cell_type": "code",
   "execution_count": 82,
   "id": "a3dc8b56",
   "metadata": {},
   "outputs": [
    {
     "data": {
      "text/plain": [
       "0       2020-10-30 00:00:04\n",
       "1       2020-10-30 00:00:09\n",
       "2       2020-10-30 00:00:14\n",
       "3       2020-10-30 00:00:19\n",
       "4       2020-10-30 00:00:24\n",
       "                ...        \n",
       "10353   2020-10-30 14:22:49\n",
       "10354   2020-10-30 14:22:54\n",
       "10355   2020-10-30 14:22:59\n",
       "10356   2020-10-30 14:23:04\n",
       "10357   2020-10-30 14:23:09\n",
       "Name: date, Length: 10358, dtype: datetime64[ns]"
      ]
     },
     "execution_count": 82,
     "metadata": {},
     "output_type": "execute_result"
    }
   ],
   "source": [
    "timestamps_train"
   ]
  },
  {
   "cell_type": "code",
   "execution_count": 83,
   "id": "74c37c78",
   "metadata": {},
   "outputs": [
    {
     "name": "stderr",
     "output_type": "stream",
     "text": [
      "Generating windows:   0%|          | 0/10319 [00:00<?, ?it/s]"
     ]
    },
    {
     "name": "stderr",
     "output_type": "stream",
     "text": [
      "Generating windows: 100%|██████████| 10319/10319 [00:00<00:00, 11099.31it/s]\n"
     ]
    },
    {
     "name": "stdout",
     "output_type": "stream",
     "text": [
      "✅ 10319 windows created.\n"
     ]
    },
    {
     "name": "stderr",
     "output_type": "stream",
     "text": [
      "Generating windows: 100%|██████████| 3413/3413 [00:00<00:00, 11204.74it/s]\n"
     ]
    },
    {
     "name": "stdout",
     "output_type": "stream",
     "text": [
      "✅ 3413 windows created.\n"
     ]
    },
    {
     "name": "stderr",
     "output_type": "stream",
     "text": [
      "Generating windows: 100%|██████████| 3415/3415 [00:00<00:00, 11169.90it/s]"
     ]
    },
    {
     "name": "stdout",
     "output_type": "stream",
     "text": [
      "✅ 3415 windows created.\n"
     ]
    },
    {
     "name": "stderr",
     "output_type": "stream",
     "text": [
      "\n"
     ]
    }
   ],
   "source": [
    "# ✅ Train dataset\n",
    "train_dataset = PlasticProcessDataset(\n",
    "    timestamps=timestamps_train,\n",
    "    df=features_train,\n",
    "    labels=labels_train,\n",
    "    window_given=39,\n",
    "    window_size=40,\n",
    "    stride=1\n",
    ")\n",
    "\n",
    "# ✅ Validation dataset\n",
    "valid_dataset = PlasticProcessDataset(\n",
    "    timestamps=timestamps_valid,\n",
    "    df=features_valid,\n",
    "    labels=labels_valid,\n",
    "    window_given=39,\n",
    "    window_size=40,\n",
    "    stride=1\n",
    ")\n",
    "\n",
    "# ✅ Test dataset\n",
    "test_dataset = PlasticProcessDataset(\n",
    "    timestamps=timestamps_test,\n",
    "    df=features_test,\n",
    "    labels=labels_test,\n",
    "    window_given=39,\n",
    "    window_size=40,\n",
    "    stride=1\n",
    ")\n"
   ]
  },
  {
   "cell_type": "markdown",
   "id": "6e6889e8",
   "metadata": {},
   "source": [
    "## 03. Model"
   ]
  },
  {
   "cell_type": "code",
   "execution_count": 84,
   "id": "7c8da6e8",
   "metadata": {},
   "outputs": [],
   "source": [
    "import torch\n",
    "import torch.nn as nn\n",
    "\n",
    "N_FEATURES = 18   # 입력 변수 개수 (date, passorfail 제외)\n",
    "N_HIDDENS = 200\n",
    "N_LAYERS = 3\n",
    "BATCH_SIZE = 512\n",
    "EPOCHS = 50\n",
    "\n",
    "class StackedLSTM(nn.Module):\n",
    "    def __init__(self, input_dim=N_FEATURES, hidden_dim=N_HIDDENS, num_layers=N_LAYERS, dropout=0.1):\n",
    "        super().__init__()\n",
    "        self.input_dim = input_dim\n",
    "        self.hidden_dim = hidden_dim\n",
    "        self.num_layers = num_layers\n",
    "\n",
    "        # === 1. LSTM Encoder ===\n",
    "        self.rnn = nn.LSTM(\n",
    "            input_size=input_dim,\n",
    "            hidden_size=hidden_dim,\n",
    "            num_layers=num_layers,\n",
    "            bidirectional=True,\n",
    "            dropout=dropout\n",
    "        )\n",
    "\n",
    "        # === 2. FC Decoder ===\n",
    "        self.fc = nn.Linear(hidden_dim * 2, input_dim)\n",
    "        self.relu = nn.LeakyReLU(0.1)\n",
    "\n",
    "        # === 3. Feature Attention Layers ===\n",
    "        self.dense1 = nn.Linear(input_dim, input_dim // 2)\n",
    "        self.dense2 = nn.Linear(input_dim // 2, input_dim)\n",
    "        self.sigmoid = nn.Sigmoid()\n",
    "\n",
    "        # === 4. Learnable mix factor (skip connection) ===\n",
    "        self.w = nn.Parameter(torch.FloatTensor([-0.01]), requires_grad=True)\n",
    "\n",
    "    def forward(self, x):\n",
    "        # x: (batch, window_size, n_features)\n",
    "        B, T, F = x.size()\n",
    "\n",
    "        # === Feature Attention ===\n",
    "        pool = nn.AdaptiveAvgPool1d(1)\n",
    "        attention_x = x.transpose(1, 2)         # (B, F, T)\n",
    "        attention = pool(attention_x)           # (B, F, 1)\n",
    "        connection = attention.view(B, F)       # (B, F)\n",
    "\n",
    "        # Dense layers → attention weights (0~1)\n",
    "        attention = self.relu(attention.squeeze(-1))\n",
    "        attention = self.relu(self.dense1(attention))\n",
    "        attention = self.sigmoid(self.dense2(attention))  # (B, F)\n",
    "\n",
    "        # === LSTM Encoder ===\n",
    "        x = x.transpose(0, 1)                   # (T, B, F)\n",
    "        self.rnn.flatten_parameters()\n",
    "        outs, _ = self.rnn(x)\n",
    "        out = self.fc(self.relu(outs[-1]))      # (B, F)\n",
    "\n",
    "        # === Mix-up Skip Connection ===\n",
    "        mix_factor = self.sigmoid(self.w)\n",
    "        output = mix_factor * connection * attention + out * (1 - mix_factor)\n",
    "        return output\n"
   ]
  },
  {
   "cell_type": "markdown",
   "id": "1a17906a",
   "metadata": {},
   "source": [
    "## 04. Train"
   ]
  },
  {
   "cell_type": "markdown",
   "id": "ef8eca67",
   "metadata": {},
   "source": []
  },
  {
   "cell_type": "code",
   "execution_count": 89,
   "id": "0ab015c2",
   "metadata": {},
   "outputs": [],
   "source": [
    "import torch\n",
    "from torch.utils.data import DataLoader\n",
    "from tqdm.notebook import trange\n",
    "import sys\n",
    "\n",
    "def train(dataset, model, batch_size, n_epochs, device):\n",
    "    \"\"\"\n",
    "    단일 데이터셋(train)으로 모델을 학습하는 함수.\n",
    "    - dataset: 학습 데이터셋\n",
    "    - model: PyTorch 모델\n",
    "    - device: 'cuda' or 'cpu'\n",
    "    - 반환: best 모델 상태(best)와 손실 기록(history)\n",
    "    \"\"\"\n",
    "\n",
    "    dataloader = DataLoader(dataset, batch_size=batch_size, shuffle=False)\n",
    "\n",
    "    optimizer = torch.optim.AdamW(model.parameters(), lr=1e-3, weight_decay=1e-5)\n",
    "    loss_fn = torch.nn.MSELoss()\n",
    "\n",
    "    epochs = trange(n_epochs, desc=\"training\", leave=True)\n",
    "    best = {\"loss\": sys.float_info.max}\n",
    "    history = {\"train\": []}  # ✅ train만 기록\n",
    "\n",
    "    model.train()\n",
    "\n",
    "    for e in epochs:\n",
    "        epoch_loss = 0.0\n",
    "\n",
    "        for batch in dataloader:\n",
    "            optimizer.zero_grad()\n",
    "\n",
    "            # 입력, 정답 GPU로 이동\n",
    "            given = batch[\"given\"].to(device)     # (B, T, F)\n",
    "            answer = batch[\"answer\"].to(device)   # (B, T, F) or (B, F)\n",
    "\n",
    "            # 모델 예측\n",
    "            guess = model(given)                  # (B, F)\n",
    "\n",
    "            # Reconstruction Loss 계산\n",
    "            if answer.ndim == 3:\n",
    "                target = answer[:, -1, :]         # 시퀀스면 마지막 시점만\n",
    "            else:\n",
    "                target = answer\n",
    "\n",
    "            loss = loss_fn(guess, target)\n",
    "            loss.backward()\n",
    "            optimizer.step()\n",
    "\n",
    "            epoch_loss += loss.item()\n",
    "\n",
    "        avg_loss = epoch_loss / len(dataloader)\n",
    "        history[\"train\"].append(avg_loss)\n",
    "        epochs.set_postfix_str(f\"loss: {avg_loss:.6f}\")\n",
    "\n",
    "        # Best model 저장\n",
    "        if avg_loss < best[\"loss\"]:\n",
    "            best[\"state\"] = model.state_dict()\n",
    "            best[\"loss\"] = avg_loss\n",
    "            best[\"epoch\"] = e + 1\n",
    "\n",
    "    print(f\"✅ Best loss: {best['loss']:.6f} at epoch {best['epoch']}\")\n",
    "    return best, history\n"
   ]
  },
  {
   "cell_type": "code",
   "execution_count": 90,
   "id": "dfdedd6b",
   "metadata": {},
   "outputs": [
    {
     "data": {
      "application/vnd.jupyter.widget-view+json": {
       "model_id": "00be0ba345af4af682f83e510e6732fa",
       "version_major": 2,
       "version_minor": 0
      },
      "text/plain": [
       "training:   0%|          | 0/100 [00:00<?, ?it/s]"
      ]
     },
     "metadata": {},
     "output_type": "display_data"
    },
    {
     "name": "stdout",
     "output_type": "stream",
     "text": [
      "✅ Best loss: 0.004869 at epoch 88\n"
     ]
    }
   ],
   "source": [
    "device = torch.device(\"cuda:6\" if torch.cuda.is_available() else \"cpu\")\n",
    "\n",
    "MODEL = StackedLSTM(input_dim=18).to(device)\n",
    "\n",
    "best, loss_history = train(\n",
    "    dataset=train_dataset,  # 정상 데이터만 포함\n",
    "    model=MODEL,\n",
    "    batch_size=512,\n",
    "    n_epochs=100,\n",
    "    device=device\n",
    ")\n"
   ]
  },
  {
   "cell_type": "code",
   "execution_count": 92,
   "id": "25228f82",
   "metadata": {},
   "outputs": [
    {
     "name": "stdout",
     "output_type": "stream",
     "text": [
      "Best loss: 0.004868844302282447\n",
      "Best epoch: 88\n"
     ]
    }
   ],
   "source": [
    "# ✅ Best 결과 확인\n",
    "print(\"Best loss:\", best[\"loss\"])\n",
    "print(\"Best epoch:\", best[\"epoch\"])"
   ]
  },
  {
   "cell_type": "code",
   "execution_count": 93,
   "id": "231cbc6b",
   "metadata": {},
   "outputs": [
    {
     "name": "stdout",
     "output_type": "stream",
     "text": [
      "✅ Model saved to ./model_best.pt\n"
     ]
    }
   ],
   "source": [
    "# ✅ 모델 저장\n",
    "torch.save(\n",
    "    {\n",
    "        \"state_dict\": best[\"state\"],\n",
    "        \"best_epoch\": best[\"epoch\"],\n",
    "        \"train_loss_history\": loss_history[\"train\"],\n",
    "    },\n",
    "    \"./model_best.pt\"\n",
    ")\n",
    "\n",
    "print(\"✅ Model saved to ./model_best.pt\")\n"
   ]
  },
  {
   "cell_type": "code",
   "execution_count": 95,
   "id": "a04b3ed8",
   "metadata": {},
   "outputs": [
    {
     "data": {
      "image/png": "[encoded data removed]",
      "text/plain": [
       "<Figure size 1008x288 with 1 Axes>"
      ]
     },
     "metadata": {
      "needs_background": "light"
     },
     "output_type": "display_data"
    }
   ],
   "source": [
    "import matplotlib.pyplot as plt\n",
    "\n",
    "plt.figure(figsize=(14, 4))\n",
    "plt.title(\"Training / Validation Loss Curve\")\n",
    "plt.xlabel(\"Epochs\")\n",
    "plt.ylabel(\"MSE Loss\")\n",
    "plt.yscale(\"log\")\n",
    "\n",
    "plt.plot(loss_history[\"train\"], label=\"Train Loss\", color=\"blue\")\n",
    "\n",
    "plt.legend()\n",
    "plt.grid(True, alpha=0.3)\n",
    "plt.show()\n"
   ]
  },
  {
   "cell_type": "markdown",
   "id": "8be12e3e",
   "metadata": {},
   "source": [
    "## 05. inference\n"
   ]
  },
  {
   "cell_type": "code",
   "execution_count": null,
   "id": "a4261118",
   "metadata": {},
   "outputs": [],
   "source": [
    "import torch\n",
    "import numpy as np\n",
    "from torch.utils.data import DataLoader\n",
    "\n",
    "def eval(dataset, model, batch_size=512, device=\"cuda\"):\n",
    "    \"\"\"\n",
    "    ✅ Reconstruction 기반 이상탐지 평가 함수 (validation, test 공용)\n",
    "    - dataset: {\"given\": (B,T,F), \"answer\": (B,T,F or B,F), (optional) \"label\": (B,)}\n",
    "    - 반환: (errors: np.ndarray [N,], labels: np.ndarray [N,] or None)\n",
    "    \"\"\"\n",
    "    device = torch.device(device)\n",
    "    model.to(device)\n",
    "    model.eval()\n",
    "\n",
    "    loader = DataLoader(dataset, batch_size=batch_size, shuffle=False)\n",
    "    all_errors, all_labels = [], []\n",
    "\n",
    "    with torch.no_grad():\n",
    "        for batch in loader:\n",
    "            given  = batch[\"given\"].to(device)       # (B,T,F)\n",
    "            answer = batch[\"answer\"].to(device)      # (B,T,F) or (B,F)\n",
    "\n",
    "            # 모델 예측\n",
    "            guess = model(given)                     # (B,F)\n",
    "\n",
    "            # 타겟(마지막 시점 또는 그대로)\n",
    "            target = answer[:, -1, :] if answer.ndim == 3 else answer  # (B,F)\n",
    "\n",
    "            # per-sample MSE over features → (B,)\n",
    "            errors = torch.mean((guess - target) ** 2, dim=1).cpu().numpy()\n",
    "            all_errors.append(errors)\n",
    "\n",
    "            # 라벨이 있으면 모으기(없으면 건너뜀)\n",
    "            lab = batch.get(\"label\", None)\n",
    "            if lab is not None:\n",
    "                all_labels.append(lab.cpu().numpy())\n",
    "\n",
    "    errors = np.concatenate(all_errors) if all_errors else np.array([])\n",
    "    labels = np.concatenate(all_labels) if all_labels else None\n",
    "\n",
    "    print(f\"✅ Inference complete: {len(errors)} samples\")\n",
    "    return errors, labels\n"
   ]
  },
  {
   "cell_type": "code",
   "execution_count": 106,
   "id": "930142b5",
   "metadata": {},
   "outputs": [],
   "source": [
    "import numpy as np\n",
    "from sklearn.metrics import roc_auc_score\n",
    "\n",
    "def _safe_div(a, b):\n",
    "    return (a / b) if b else 0.0\n",
    "\n",
    "def print_metrics(errors, labels, threshold, name=\"DATASET\", try_auc=True):\n",
    "    labels = np.asarray(labels).astype(int)\n",
    "    preds  = (np.asarray(errors) > float(threshold)).astype(int)\n",
    "\n",
    "    # Confusion matrix terms\n",
    "    tp = int(((preds == 1) & (labels == 1)).sum())\n",
    "    fp = int(((preds == 1) & (labels == 0)).sum())\n",
    "    tn = int(((preds == 0) & (labels == 0)).sum())\n",
    "    fn = int(((preds == 0) & (labels == 1)).sum())\n",
    "\n",
    "    # Precision / Recall / F1 (수식으로 안전 계산)\n",
    "    P  = _safe_div(tp, tp + fp)\n",
    "    R  = _safe_div(tp, tp + fn)\n",
    "    F1 = _safe_div(2 * P * R, P + R) if (P + R) > 0 else 0.0\n",
    "\n",
    "    print(f\"\\n=== {name} Metrics ===\")\n",
    "    # AUC는 양/음성 모두 있을 때만\n",
    "    if try_auc and np.unique(labels).size == 2:\n",
    "        print(f\"AUC : {roc_auc_score(labels, errors):.6f}\")\n",
    "    else:\n",
    "        print(\"AUC : N/A (only one class in labels)\")\n",
    "\n",
    "    print(f\"P   : {P:.6f}\")\n",
    "    print(f\"R   : {R:.6f}\")\n",
    "    print(f\"F1  : {F1:.6f}\")\n",
    "    print(f\"[TP:{tp} FP:{fp} TN:{tn} FN:{fn} | Pos:{labels.sum()} Neg:{(labels==0).sum()}]\")\n"
   ]
  },
  {
   "cell_type": "code",
   "execution_count": 107,
   "id": "a423b5df",
   "metadata": {},
   "outputs": [
    {
     "name": "stdout",
     "output_type": "stream",
     "text": [
      "✅ Inference complete: 3413 samples\n",
      "VAL_THRESHOLD = 0.08982525318861005\n",
      "\n",
      "=== Validation Metrics ===\n",
      "AUC : N/A (only one class in labels)\n",
      "P   : 0.000000\n",
      "R   : 0.000000\n",
      "F1  : 0.000000\n",
      "[TP:0 FP:171 TN:3242 FN:0 | Pos:0 Neg:3413]\n"
     ]
    }
   ],
   "source": [
    "# Validation\n",
    "val_errors, val_labels = eval(valid_dataset, MODEL, batch_size=512, device=device)\n",
    "VAL_THRESHOLD = float(np.percentile(val_errors, 95))\n",
    "print(\"VAL_THRESHOLD =\", VAL_THRESHOLD)\n",
    "print_metrics(val_errors, val_labels, VAL_THRESHOLD, name=\"Validation\")"
   ]
  },
  {
   "cell_type": "code",
   "execution_count": 108,
   "id": "74011075",
   "metadata": {},
   "outputs": [
    {
     "name": "stdout",
     "output_type": "stream",
     "text": [
      "✅ Inference complete: 3415 samples\n",
      "\n",
      "=== Test Metrics ===\n",
      "AUC : N/A (only one class in labels)\n",
      "P   : 0.000000\n",
      "R   : 0.000000\n",
      "F1  : 0.000000\n",
      "[TP:0 FP:133 TN:3282 FN:0 | Pos:0 Neg:3415]\n"
     ]
    }
   ],
   "source": [
    "# Test (같은 임계값 사용)\n",
    "test_errors, test_labels = eval(test_dataset, MODEL, batch_size=512, device=device)\n",
    "print_metrics(test_errors, test_labels, VAL_THRESHOLD, name=\"Test\")"
   ]
  },
  {
   "cell_type": "code",
   "execution_count": null,
   "id": "bf11db67",
   "metadata": {},
   "outputs": [],
   "source": [
    "ANOMALY_SCORE = np.mean(CHECK_DIST, axis=1)"
   ]
  },
  {
   "cell_type": "code",
   "execution_count": 101,
   "id": "b84617d0",
   "metadata": {},
   "outputs": [],
   "source": [
    "def check_graph(xs, att, piece=2, THRESHOLD=None):\n",
    "    l = xs.shape[0]\n",
    "    chunk = l // piece\n",
    "    fig, axs = plt.subplots(piece, figsize=(20, 4 * piece))\n",
    "    for i in range(piece):\n",
    "        L = i * chunk\n",
    "        R = min(L + chunk, l)\n",
    "        xticks = range(L, R)\n",
    "        axs[i].plot(xticks, xs[L:R])\n",
    "        if len(xs[L:R]) > 0:\n",
    "            peak = max(xs[L:R])\n",
    "            axs[i].plot(xticks, att[L:R] * peak * 0.3)\n",
    "        if THRESHOLD!=None:\n",
    "            axs[i].axhline(y=THRESHOLD, color='r')\n",
    "    plt.show()"
   ]
  },
  {
   "cell_type": "markdown",
   "id": "047dc9d9",
   "metadata": {},
   "source": []
  }
 ],
 "metadata": {
  "kernelspec": {
   "display_name": "kamp",
   "language": "python",
   "name": "python3"
  },
  "language_info": {
   "codemirror_mode": {
    "name": "ipython",
    "version": 3
   },
   "file_extension": ".py",
   "mimetype": "text/x-python",
   "name": "python",
   "nbconvert_exporter": "python",
   "pygments_lexer": "ipython3",
   "version": "3.10.19"
  }
 },
 "nbformat": 4,
 "nbformat_minor": 5
}
